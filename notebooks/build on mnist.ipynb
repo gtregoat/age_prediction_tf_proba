{
 "cells": [
  {
   "cell_type": "code",
   "execution_count": 1,
   "outputs": [],
   "source": [
    "from age_model import TfProbabilityResnet50Classifier, TfProbabilityCnnClassifier\n",
    "from tensorflow_datasets import load\n",
    "import tensorflow as tf\n",
    "import numpy as np\n",
    "from matplotlib import pyplot as plt"
   ],
   "metadata": {
    "collapsed": false,
    "pycharm": {
     "name": "#%%\n"
    }
   }
  },
  {
   "cell_type": "code",
   "execution_count": 15,
   "outputs": [],
   "source": [
    "train_ds, test_ds = load('mnist',\n",
    "                         split=['train', 'test'],\n",
    "                         as_supervised=True)"
   ],
   "metadata": {
    "collapsed": false,
    "pycharm": {
     "name": "#%%\n"
    }
   }
  },
  {
   "cell_type": "code",
   "execution_count": 16,
   "outputs": [
    {
     "data": {
      "text/plain": "(TensorSpec(shape=(None, 28, 28, 1), dtype=tf.float32, name=None),\n TensorSpec(shape=(None, 10), dtype=tf.float32, name=None))"
     },
     "execution_count": 16,
     "metadata": {},
     "output_type": "execute_result"
    }
   ],
   "source": [
    " # Normalize and one-hot\n",
    "def ohe_normalize(images, labels):\n",
    "    images = tf.cast(images, tf.float32)\n",
    "    images = tf.divide(images, 255.0)\n",
    "\n",
    "    labels = tf.one_hot(labels, 10)\n",
    "\n",
    "    return images, labels\n",
    "\n",
    "\n",
    "train_ds = train_ds.batch(128*24).map(ohe_normalize).shuffle(128*24).prefetch(tf.data.AUTOTUNE)\n",
    "test_ds = test_ds.batch(128*24).map(ohe_normalize).prefetch(tf.data.AUTOTUNE)\n",
    "\n",
    "# Outputs a tuple of two elements, first --> Images, second --> Labels\n",
    "train_ds.element_spec"
   ],
   "metadata": {
    "collapsed": false,
    "pycharm": {
     "name": "#%%\n"
    }
   }
  },
  {
   "cell_type": "code",
   "execution_count": 7,
   "outputs": [
    {
     "name": "stdout",
     "output_type": "stream",
     "text": [
      "Model: \"tf_probability_cnn_classifier_1\"\n",
      "_________________________________________________________________\n",
      " Layer (type)                Output Shape              Param #   \n",
      "=================================================================\n",
      " conv2d_reparameterization_5  (None, 28, 28, 16)       320       \n",
      " 7 (Conv2DReparameterization                                     \n",
      " )                                                               \n",
      "                                                                 \n",
      " max_pooling2d_4 (MaxPooling  (None, 14, 14, 16)       0         \n",
      " 2D)                                                             \n",
      "                                                                 \n",
      " conv2d_reparameterization_5  (None, 14, 14, 32)       9280      \n",
      " 8 (Conv2DReparameterization                                     \n",
      " )                                                               \n",
      "                                                                 \n",
      " max_pooling2d_5 (MaxPooling  (None, 7, 7, 32)         0         \n",
      " 2D)                                                             \n",
      "                                                                 \n",
      " conv2d_reparameterization_5  (None, 7, 7, 64)         36992     \n",
      " 9 (Conv2DReparameterization                                     \n",
      " )                                                               \n",
      "                                                                 \n",
      " max_pooling2d_6 (MaxPooling  (None, 3, 3, 64)         0         \n",
      " 2D)                                                             \n",
      "                                                                 \n",
      " conv2d_reparameterization_6  (None, 3, 3, 128)        147712    \n",
      " 0 (Conv2DReparameterization                                     \n",
      " )                                                               \n",
      "                                                                 \n",
      " global_max_pooling2d_1 (Glo  (None, 128)              0         \n",
      " balMaxPooling2D)                                                \n",
      "                                                                 \n",
      " dense_reparameterization_2   (None, 10)               2580      \n",
      " (DenseReparameterization)                                       \n",
      "                                                                 \n",
      " one_hot_categorical_1 (OneH  ((None, 10),             0         \n",
      " otCategorical)               (None, 10))                        \n",
      "                                                                 \n",
      "=================================================================\n",
      "Total params: 196,884\n",
      "Trainable params: 196,884\n",
      "Non-trainable params: 0\n",
      "_________________________________________________________________\n"
     ]
    }
   ],
   "source": [
    "model_cnn = TfProbabilityCnnClassifier(input_dim=(28, 28, 1), n_classes=10)\n",
    "model_cnn.summary()"
   ],
   "metadata": {
    "collapsed": false,
    "pycharm": {
     "name": "#%%\n"
    }
   }
  },
  {
   "cell_type": "code",
   "execution_count": 8,
   "outputs": [
    {
     "name": "stdout",
     "output_type": "stream",
     "text": [
      "Epoch 1/10\n",
      "469/469 [==============================] - 32s 61ms/step - loss: 4.7856 - accuracy: 0.6668 - val_loss: 4.1595 - val_accuracy: 0.9059\n",
      "Epoch 2/10\n",
      "469/469 [==============================] - 27s 58ms/step - loss: 4.0299 - accuracy: 0.9257 - val_loss: 3.8913 - val_accuracy: 0.9465\n",
      "Epoch 3/10\n",
      "469/469 [==============================] - 27s 58ms/step - loss: 3.7932 - accuracy: 0.9521 - val_loss: 3.6786 - val_accuracy: 0.9582\n",
      "Epoch 4/10\n",
      "469/469 [==============================] - 28s 59ms/step - loss: 3.5805 - accuracy: 0.9617 - val_loss: 3.4635 - val_accuracy: 0.9656\n",
      "Epoch 5/10\n",
      "469/469 [==============================] - 28s 59ms/step - loss: 3.3746 - accuracy: 0.9682 - val_loss: 3.2698 - val_accuracy: 0.9699\n",
      "Epoch 6/10\n",
      "469/469 [==============================] - 27s 58ms/step - loss: 3.1815 - accuracy: 0.9718 - val_loss: 3.0862 - val_accuracy: 0.9752\n",
      "Epoch 7/10\n",
      "469/469 [==============================] - 28s 59ms/step - loss: 2.9992 - accuracy: 0.9745 - val_loss: 2.9125 - val_accuracy: 0.9768\n",
      "Epoch 8/10\n",
      "469/469 [==============================] - 28s 59ms/step - loss: 2.8305 - accuracy: 0.9766 - val_loss: 2.7524 - val_accuracy: 0.9769\n",
      "Epoch 9/10\n",
      "469/469 [==============================] - 31s 67ms/step - loss: 2.6793 - accuracy: 0.9769 - val_loss: 2.6072 - val_accuracy: 0.9763\n",
      "Epoch 10/10\n",
      "469/469 [==============================] - 35s 74ms/step - loss: 2.5372 - accuracy: 0.9776 - val_loss: 2.4721 - val_accuracy: 0.9758\n"
     ]
    },
    {
     "data": {
      "text/plain": "<keras.callbacks.History at 0x7fc02997cf10>"
     },
     "execution_count": 8,
     "metadata": {},
     "output_type": "execute_result"
    }
   ],
   "source": [
    "model_cnn.fit(train_ds, epochs=10, validation_data=test_ds)"
   ],
   "metadata": {
    "collapsed": false,
    "pycharm": {
     "name": "#%%\n"
    }
   }
  },
  {
   "cell_type": "code",
   "execution_count": 9,
   "outputs": [
    {
     "name": "stdout",
     "output_type": "stream",
     "text": [
      "Model: \"bayesian_resnet_50\"\n",
      "__________________________________________________________________________________________________\n",
      " Layer (type)                   Output Shape         Param #     Connected to                     \n",
      "==================================================================================================\n",
      " input_4 (InputLayer)           [(None, 28, 28, 1)]  0           []                               \n",
      "                                                                                                  \n",
      " zero_padding2d_2 (ZeroPadding2  (None, 34, 34, 1)   0           ['input_4[0][0]']                \n",
      " D)                                                                                               \n",
      "                                                                                                  \n",
      " conv2d_reparameterization_61 (  (None, 14, 14, 64)  6400        ['zero_padding2d_2[0][0]']       \n",
      " Conv2DReparameterization)                                                                        \n",
      "                                                                                                  \n",
      " batch_normalization_53 (BatchN  (None, 14, 14, 64)  256         ['conv2d_reparameterization_61[0]\n",
      " ormalization)                                                   [0]']                            \n",
      "                                                                                                  \n",
      " activation_49 (Activation)     (None, 14, 14, 64)   0           ['batch_normalization_53[0][0]'] \n",
      "                                                                                                  \n",
      " zero_padding2d_3 (ZeroPadding2  (None, 16, 16, 64)  0           ['activation_49[0][0]']          \n",
      " D)                                                                                               \n",
      "                                                                                                  \n",
      " max_pooling2d_7 (MaxPooling2D)  (None, 7, 7, 64)    0           ['zero_padding2d_3[0][0]']       \n",
      "                                                                                                  \n",
      " conv2d_reparameterization_62 (  (None, 7, 7, 64)    8320        ['max_pooling2d_7[0][0]']        \n",
      " Conv2DReparameterization)                                                                        \n",
      "                                                                                                  \n",
      " batch_normalization_54 (BatchN  (None, 7, 7, 64)    256         ['conv2d_reparameterization_62[0]\n",
      " ormalization)                                                   [0]']                            \n",
      "                                                                                                  \n",
      " activation_50 (Activation)     (None, 7, 7, 64)     0           ['batch_normalization_54[0][0]'] \n",
      "                                                                                                  \n",
      " conv2d_reparameterization_63 (  (None, 7, 7, 64)    73856       ['activation_50[0][0]']          \n",
      " Conv2DReparameterization)                                                                        \n",
      "                                                                                                  \n",
      " batch_normalization_55 (BatchN  (None, 7, 7, 64)    256         ['conv2d_reparameterization_63[0]\n",
      " ormalization)                                                   [0]']                            \n",
      "                                                                                                  \n",
      " activation_51 (Activation)     (None, 7, 7, 64)     0           ['batch_normalization_55[0][0]'] \n",
      "                                                                                                  \n",
      " conv2d_reparameterization_64 (  (None, 7, 7, 256)   33280       ['activation_51[0][0]']          \n",
      " Conv2DReparameterization)                                                                        \n",
      "                                                                                                  \n",
      " conv2d_reparameterization_65 (  (None, 7, 7, 256)   33280       ['max_pooling2d_7[0][0]']        \n",
      " Conv2DReparameterization)                                                                        \n",
      "                                                                                                  \n",
      " batch_normalization_56 (BatchN  (None, 7, 7, 256)   1024        ['conv2d_reparameterization_64[0]\n",
      " ormalization)                                                   [0]']                            \n",
      "                                                                                                  \n",
      " batch_normalization_57 (BatchN  (None, 7, 7, 256)   1024        ['conv2d_reparameterization_65[0]\n",
      " ormalization)                                                   [0]']                            \n",
      "                                                                                                  \n",
      " add_16 (Add)                   (None, 7, 7, 256)    0           ['batch_normalization_56[0][0]', \n",
      "                                                                  'batch_normalization_57[0][0]'] \n",
      "                                                                                                  \n",
      " activation_52 (Activation)     (None, 7, 7, 256)    0           ['add_16[0][0]']                 \n",
      "                                                                                                  \n",
      " conv2d_reparameterization_66 (  (None, 7, 7, 64)    32896       ['activation_52[0][0]']          \n",
      " Conv2DReparameterization)                                                                        \n",
      "                                                                                                  \n",
      " batch_normalization_58 (BatchN  (None, 7, 7, 64)    256         ['conv2d_reparameterization_66[0]\n",
      " ormalization)                                                   [0]']                            \n",
      "                                                                                                  \n",
      " activation_53 (Activation)     (None, 7, 7, 64)     0           ['batch_normalization_58[0][0]'] \n",
      "                                                                                                  \n",
      " conv2d_reparameterization_67 (  (None, 7, 7, 64)    73856       ['activation_53[0][0]']          \n",
      " Conv2DReparameterization)                                                                        \n",
      "                                                                                                  \n",
      " batch_normalization_59 (BatchN  (None, 7, 7, 64)    256         ['conv2d_reparameterization_67[0]\n",
      " ormalization)                                                   [0]']                            \n",
      "                                                                                                  \n",
      " activation_54 (Activation)     (None, 7, 7, 64)     0           ['batch_normalization_59[0][0]'] \n",
      "                                                                                                  \n",
      " conv2d_reparameterization_68 (  (None, 7, 7, 256)   33280       ['activation_54[0][0]']          \n",
      " Conv2DReparameterization)                                                                        \n",
      "                                                                                                  \n",
      " batch_normalization_60 (BatchN  (None, 7, 7, 256)   1024        ['conv2d_reparameterization_68[0]\n",
      " ormalization)                                                   [0]']                            \n",
      "                                                                                                  \n",
      " add_17 (Add)                   (None, 7, 7, 256)    0           ['batch_normalization_60[0][0]', \n",
      "                                                                  'activation_52[0][0]']          \n",
      "                                                                                                  \n",
      " activation_55 (Activation)     (None, 7, 7, 256)    0           ['add_17[0][0]']                 \n",
      "                                                                                                  \n",
      " conv2d_reparameterization_69 (  (None, 7, 7, 64)    32896       ['activation_55[0][0]']          \n",
      " Conv2DReparameterization)                                                                        \n",
      "                                                                                                  \n",
      " batch_normalization_61 (BatchN  (None, 7, 7, 64)    256         ['conv2d_reparameterization_69[0]\n",
      " ormalization)                                                   [0]']                            \n",
      "                                                                                                  \n",
      " activation_56 (Activation)     (None, 7, 7, 64)     0           ['batch_normalization_61[0][0]'] \n",
      "                                                                                                  \n",
      " conv2d_reparameterization_70 (  (None, 7, 7, 64)    73856       ['activation_56[0][0]']          \n",
      " Conv2DReparameterization)                                                                        \n",
      "                                                                                                  \n",
      " batch_normalization_62 (BatchN  (None, 7, 7, 64)    256         ['conv2d_reparameterization_70[0]\n",
      " ormalization)                                                   [0]']                            \n",
      "                                                                                                  \n",
      " activation_57 (Activation)     (None, 7, 7, 64)     0           ['batch_normalization_62[0][0]'] \n",
      "                                                                                                  \n",
      " conv2d_reparameterization_71 (  (None, 7, 7, 256)   33280       ['activation_57[0][0]']          \n",
      " Conv2DReparameterization)                                                                        \n",
      "                                                                                                  \n",
      " batch_normalization_63 (BatchN  (None, 7, 7, 256)   1024        ['conv2d_reparameterization_71[0]\n",
      " ormalization)                                                   [0]']                            \n",
      "                                                                                                  \n",
      " add_18 (Add)                   (None, 7, 7, 256)    0           ['batch_normalization_63[0][0]', \n",
      "                                                                  'activation_55[0][0]']          \n",
      "                                                                                                  \n",
      " activation_58 (Activation)     (None, 7, 7, 256)    0           ['add_18[0][0]']                 \n",
      "                                                                                                  \n",
      " conv2d_reparameterization_72 (  (None, 4, 4, 128)   65792       ['activation_58[0][0]']          \n",
      " Conv2DReparameterization)                                                                        \n",
      "                                                                                                  \n",
      " batch_normalization_64 (BatchN  (None, 4, 4, 128)   512         ['conv2d_reparameterization_72[0]\n",
      " ormalization)                                                   [0]']                            \n",
      "                                                                                                  \n",
      " activation_59 (Activation)     (None, 4, 4, 128)    0           ['batch_normalization_64[0][0]'] \n",
      "                                                                                                  \n",
      " conv2d_reparameterization_73 (  (None, 2, 2, 128)   295168      ['activation_59[0][0]']          \n",
      " Conv2DReparameterization)                                                                        \n",
      "                                                                                                  \n",
      " batch_normalization_65 (BatchN  (None, 2, 2, 128)   512         ['conv2d_reparameterization_73[0]\n",
      " ormalization)                                                   [0]']                            \n",
      "                                                                                                  \n",
      " activation_60 (Activation)     (None, 2, 2, 128)    0           ['batch_normalization_65[0][0]'] \n",
      "                                                                                                  \n",
      " conv2d_reparameterization_74 (  (None, 1, 1, 512)   132096      ['activation_60[0][0]']          \n",
      " Conv2DReparameterization)                                                                        \n",
      "                                                                                                  \n",
      " conv2d_reparameterization_75 (  (None, 4, 4, 512)   263168      ['activation_58[0][0]']          \n",
      " Conv2DReparameterization)                                                                        \n",
      "                                                                                                  \n",
      " batch_normalization_66 (BatchN  (None, 1, 1, 512)   2048        ['conv2d_reparameterization_74[0]\n",
      " ormalization)                                                   [0]']                            \n",
      "                                                                                                  \n",
      " batch_normalization_67 (BatchN  (None, 4, 4, 512)   2048        ['conv2d_reparameterization_75[0]\n",
      " ormalization)                                                   [0]']                            \n",
      "                                                                                                  \n",
      " add_19 (Add)                   (None, 4, 4, 512)    0           ['batch_normalization_66[0][0]', \n",
      "                                                                  'batch_normalization_67[0][0]'] \n",
      "                                                                                                  \n",
      " activation_61 (Activation)     (None, 4, 4, 512)    0           ['add_19[0][0]']                 \n",
      "                                                                                                  \n",
      " conv2d_reparameterization_76 (  (None, 4, 4, 128)   131328      ['activation_61[0][0]']          \n",
      " Conv2DReparameterization)                                                                        \n",
      "                                                                                                  \n",
      " batch_normalization_68 (BatchN  (None, 4, 4, 128)   512         ['conv2d_reparameterization_76[0]\n",
      " ormalization)                                                   [0]']                            \n",
      "                                                                                                  \n",
      " activation_62 (Activation)     (None, 4, 4, 128)    0           ['batch_normalization_68[0][0]'] \n",
      "                                                                                                  \n",
      " conv2d_reparameterization_77 (  (None, 4, 4, 128)   295168      ['activation_62[0][0]']          \n",
      " Conv2DReparameterization)                                                                        \n",
      "                                                                                                  \n",
      " batch_normalization_69 (BatchN  (None, 4, 4, 128)   512         ['conv2d_reparameterization_77[0]\n",
      " ormalization)                                                   [0]']                            \n",
      "                                                                                                  \n",
      " activation_63 (Activation)     (None, 4, 4, 128)    0           ['batch_normalization_69[0][0]'] \n",
      "                                                                                                  \n",
      " conv2d_reparameterization_78 (  (None, 4, 4, 512)   132096      ['activation_63[0][0]']          \n",
      " Conv2DReparameterization)                                                                        \n",
      "                                                                                                  \n",
      " batch_normalization_70 (BatchN  (None, 4, 4, 512)   2048        ['conv2d_reparameterization_78[0]\n",
      " ormalization)                                                   [0]']                            \n",
      "                                                                                                  \n",
      " add_20 (Add)                   (None, 4, 4, 512)    0           ['batch_normalization_70[0][0]', \n",
      "                                                                  'activation_61[0][0]']          \n",
      "                                                                                                  \n",
      " activation_64 (Activation)     (None, 4, 4, 512)    0           ['add_20[0][0]']                 \n",
      "                                                                                                  \n",
      " conv2d_reparameterization_79 (  (None, 4, 4, 128)   131328      ['activation_64[0][0]']          \n",
      " Conv2DReparameterization)                                                                        \n",
      "                                                                                                  \n",
      " batch_normalization_71 (BatchN  (None, 4, 4, 128)   512         ['conv2d_reparameterization_79[0]\n",
      " ormalization)                                                   [0]']                            \n",
      "                                                                                                  \n",
      " activation_65 (Activation)     (None, 4, 4, 128)    0           ['batch_normalization_71[0][0]'] \n",
      "                                                                                                  \n",
      " conv2d_reparameterization_80 (  (None, 4, 4, 128)   295168      ['activation_65[0][0]']          \n",
      " Conv2DReparameterization)                                                                        \n",
      "                                                                                                  \n",
      " batch_normalization_72 (BatchN  (None, 4, 4, 128)   512         ['conv2d_reparameterization_80[0]\n",
      " ormalization)                                                   [0]']                            \n",
      "                                                                                                  \n",
      " activation_66 (Activation)     (None, 4, 4, 128)    0           ['batch_normalization_72[0][0]'] \n",
      "                                                                                                  \n",
      " conv2d_reparameterization_81 (  (None, 4, 4, 512)   132096      ['activation_66[0][0]']          \n",
      " Conv2DReparameterization)                                                                        \n",
      "                                                                                                  \n",
      " batch_normalization_73 (BatchN  (None, 4, 4, 512)   2048        ['conv2d_reparameterization_81[0]\n",
      " ormalization)                                                   [0]']                            \n",
      "                                                                                                  \n",
      " add_21 (Add)                   (None, 4, 4, 512)    0           ['batch_normalization_73[0][0]', \n",
      "                                                                  'activation_64[0][0]']          \n",
      "                                                                                                  \n",
      " activation_67 (Activation)     (None, 4, 4, 512)    0           ['add_21[0][0]']                 \n",
      "                                                                                                  \n",
      " conv2d_reparameterization_82 (  (None, 4, 4, 128)   131328      ['activation_67[0][0]']          \n",
      " Conv2DReparameterization)                                                                        \n",
      "                                                                                                  \n",
      " batch_normalization_74 (BatchN  (None, 4, 4, 128)   512         ['conv2d_reparameterization_82[0]\n",
      " ormalization)                                                   [0]']                            \n",
      "                                                                                                  \n",
      " activation_68 (Activation)     (None, 4, 4, 128)    0           ['batch_normalization_74[0][0]'] \n",
      "                                                                                                  \n",
      " conv2d_reparameterization_83 (  (None, 4, 4, 128)   295168      ['activation_68[0][0]']          \n",
      " Conv2DReparameterization)                                                                        \n",
      "                                                                                                  \n",
      " batch_normalization_75 (BatchN  (None, 4, 4, 128)   512         ['conv2d_reparameterization_83[0]\n",
      " ormalization)                                                   [0]']                            \n",
      "                                                                                                  \n",
      " activation_69 (Activation)     (None, 4, 4, 128)    0           ['batch_normalization_75[0][0]'] \n",
      "                                                                                                  \n",
      " conv2d_reparameterization_84 (  (None, 4, 4, 512)   132096      ['activation_69[0][0]']          \n",
      " Conv2DReparameterization)                                                                        \n",
      "                                                                                                  \n",
      " batch_normalization_76 (BatchN  (None, 4, 4, 512)   2048        ['conv2d_reparameterization_84[0]\n",
      " ormalization)                                                   [0]']                            \n",
      "                                                                                                  \n",
      " add_22 (Add)                   (None, 4, 4, 512)    0           ['batch_normalization_76[0][0]', \n",
      "                                                                  'activation_67[0][0]']          \n",
      "                                                                                                  \n",
      " activation_70 (Activation)     (None, 4, 4, 512)    0           ['add_22[0][0]']                 \n",
      "                                                                                                  \n",
      " conv2d_reparameterization_85 (  (None, 2, 2, 256)   262656      ['activation_70[0][0]']          \n",
      " Conv2DReparameterization)                                                                        \n",
      "                                                                                                  \n",
      " batch_normalization_77 (BatchN  (None, 2, 2, 256)   1024        ['conv2d_reparameterization_85[0]\n",
      " ormalization)                                                   [0]']                            \n",
      "                                                                                                  \n",
      " activation_71 (Activation)     (None, 2, 2, 256)    0           ['batch_normalization_77[0][0]'] \n",
      "                                                                                                  \n",
      " conv2d_reparameterization_86 (  (None, 1, 1, 256)   1180160     ['activation_71[0][0]']          \n",
      " Conv2DReparameterization)                                                                        \n",
      "                                                                                                  \n",
      " batch_normalization_78 (BatchN  (None, 1, 1, 256)   1024        ['conv2d_reparameterization_86[0]\n",
      " ormalization)                                                   [0]']                            \n",
      "                                                                                                  \n",
      " activation_72 (Activation)     (None, 1, 1, 256)    0           ['batch_normalization_78[0][0]'] \n",
      "                                                                                                  \n",
      " conv2d_reparameterization_87 (  (None, 1, 1, 1024)  526336      ['activation_72[0][0]']          \n",
      " Conv2DReparameterization)                                                                        \n",
      "                                                                                                  \n",
      " conv2d_reparameterization_88 (  (None, 2, 2, 1024)  1050624     ['activation_70[0][0]']          \n",
      " Conv2DReparameterization)                                                                        \n",
      "                                                                                                  \n",
      " batch_normalization_79 (BatchN  (None, 1, 1, 1024)  4096        ['conv2d_reparameterization_87[0]\n",
      " ormalization)                                                   [0]']                            \n",
      "                                                                                                  \n",
      " batch_normalization_80 (BatchN  (None, 2, 2, 1024)  4096        ['conv2d_reparameterization_88[0]\n",
      " ormalization)                                                   [0]']                            \n",
      "                                                                                                  \n",
      " add_23 (Add)                   (None, 2, 2, 1024)   0           ['batch_normalization_79[0][0]', \n",
      "                                                                  'batch_normalization_80[0][0]'] \n",
      "                                                                                                  \n",
      " activation_73 (Activation)     (None, 2, 2, 1024)   0           ['add_23[0][0]']                 \n",
      "                                                                                                  \n",
      " conv2d_reparameterization_89 (  (None, 2, 2, 256)   524800      ['activation_73[0][0]']          \n",
      " Conv2DReparameterization)                                                                        \n",
      "                                                                                                  \n",
      " batch_normalization_81 (BatchN  (None, 2, 2, 256)   1024        ['conv2d_reparameterization_89[0]\n",
      " ormalization)                                                   [0]']                            \n",
      "                                                                                                  \n",
      " activation_74 (Activation)     (None, 2, 2, 256)    0           ['batch_normalization_81[0][0]'] \n",
      "                                                                                                  \n",
      " conv2d_reparameterization_90 (  (None, 2, 2, 256)   1180160     ['activation_74[0][0]']          \n",
      " Conv2DReparameterization)                                                                        \n",
      "                                                                                                  \n",
      " batch_normalization_82 (BatchN  (None, 2, 2, 256)   1024        ['conv2d_reparameterization_90[0]\n",
      " ormalization)                                                   [0]']                            \n",
      "                                                                                                  \n",
      " activation_75 (Activation)     (None, 2, 2, 256)    0           ['batch_normalization_82[0][0]'] \n",
      "                                                                                                  \n",
      " conv2d_reparameterization_91 (  (None, 2, 2, 1024)  526336      ['activation_75[0][0]']          \n",
      " Conv2DReparameterization)                                                                        \n",
      "                                                                                                  \n",
      " batch_normalization_83 (BatchN  (None, 2, 2, 1024)  4096        ['conv2d_reparameterization_91[0]\n",
      " ormalization)                                                   [0]']                            \n",
      "                                                                                                  \n",
      " add_24 (Add)                   (None, 2, 2, 1024)   0           ['batch_normalization_83[0][0]', \n",
      "                                                                  'activation_73[0][0]']          \n",
      "                                                                                                  \n",
      " activation_76 (Activation)     (None, 2, 2, 1024)   0           ['add_24[0][0]']                 \n",
      "                                                                                                  \n",
      " conv2d_reparameterization_92 (  (None, 2, 2, 256)   524800      ['activation_76[0][0]']          \n",
      " Conv2DReparameterization)                                                                        \n",
      "                                                                                                  \n",
      " batch_normalization_84 (BatchN  (None, 2, 2, 256)   1024        ['conv2d_reparameterization_92[0]\n",
      " ormalization)                                                   [0]']                            \n",
      "                                                                                                  \n",
      " activation_77 (Activation)     (None, 2, 2, 256)    0           ['batch_normalization_84[0][0]'] \n",
      "                                                                                                  \n",
      " conv2d_reparameterization_93 (  (None, 2, 2, 256)   1180160     ['activation_77[0][0]']          \n",
      " Conv2DReparameterization)                                                                        \n",
      "                                                                                                  \n",
      " batch_normalization_85 (BatchN  (None, 2, 2, 256)   1024        ['conv2d_reparameterization_93[0]\n",
      " ormalization)                                                   [0]']                            \n",
      "                                                                                                  \n",
      " activation_78 (Activation)     (None, 2, 2, 256)    0           ['batch_normalization_85[0][0]'] \n",
      "                                                                                                  \n",
      " conv2d_reparameterization_94 (  (None, 2, 2, 1024)  526336      ['activation_78[0][0]']          \n",
      " Conv2DReparameterization)                                                                        \n",
      "                                                                                                  \n",
      " batch_normalization_86 (BatchN  (None, 2, 2, 1024)  4096        ['conv2d_reparameterization_94[0]\n",
      " ormalization)                                                   [0]']                            \n",
      "                                                                                                  \n",
      " add_25 (Add)                   (None, 2, 2, 1024)   0           ['batch_normalization_86[0][0]', \n",
      "                                                                  'activation_76[0][0]']          \n",
      "                                                                                                  \n",
      " activation_79 (Activation)     (None, 2, 2, 1024)   0           ['add_25[0][0]']                 \n",
      "                                                                                                  \n",
      " conv2d_reparameterization_95 (  (None, 2, 2, 256)   524800      ['activation_79[0][0]']          \n",
      " Conv2DReparameterization)                                                                        \n",
      "                                                                                                  \n",
      " batch_normalization_87 (BatchN  (None, 2, 2, 256)   1024        ['conv2d_reparameterization_95[0]\n",
      " ormalization)                                                   [0]']                            \n",
      "                                                                                                  \n",
      " activation_80 (Activation)     (None, 2, 2, 256)    0           ['batch_normalization_87[0][0]'] \n",
      "                                                                                                  \n",
      " conv2d_reparameterization_96 (  (None, 2, 2, 256)   1180160     ['activation_80[0][0]']          \n",
      " Conv2DReparameterization)                                                                        \n",
      "                                                                                                  \n",
      " batch_normalization_88 (BatchN  (None, 2, 2, 256)   1024        ['conv2d_reparameterization_96[0]\n",
      " ormalization)                                                   [0]']                            \n",
      "                                                                                                  \n",
      " activation_81 (Activation)     (None, 2, 2, 256)    0           ['batch_normalization_88[0][0]'] \n",
      "                                                                                                  \n",
      " conv2d_reparameterization_97 (  (None, 2, 2, 1024)  526336      ['activation_81[0][0]']          \n",
      " Conv2DReparameterization)                                                                        \n",
      "                                                                                                  \n",
      " batch_normalization_89 (BatchN  (None, 2, 2, 1024)  4096        ['conv2d_reparameterization_97[0]\n",
      " ormalization)                                                   [0]']                            \n",
      "                                                                                                  \n",
      " add_26 (Add)                   (None, 2, 2, 1024)   0           ['batch_normalization_89[0][0]', \n",
      "                                                                  'activation_79[0][0]']          \n",
      "                                                                                                  \n",
      " activation_82 (Activation)     (None, 2, 2, 1024)   0           ['add_26[0][0]']                 \n",
      "                                                                                                  \n",
      " conv2d_reparameterization_98 (  (None, 2, 2, 256)   524800      ['activation_82[0][0]']          \n",
      " Conv2DReparameterization)                                                                        \n",
      "                                                                                                  \n",
      " batch_normalization_90 (BatchN  (None, 2, 2, 256)   1024        ['conv2d_reparameterization_98[0]\n",
      " ormalization)                                                   [0]']                            \n",
      "                                                                                                  \n",
      " activation_83 (Activation)     (None, 2, 2, 256)    0           ['batch_normalization_90[0][0]'] \n",
      "                                                                                                  \n",
      " conv2d_reparameterization_99 (  (None, 2, 2, 256)   1180160     ['activation_83[0][0]']          \n",
      " Conv2DReparameterization)                                                                        \n",
      "                                                                                                  \n",
      " batch_normalization_91 (BatchN  (None, 2, 2, 256)   1024        ['conv2d_reparameterization_99[0]\n",
      " ormalization)                                                   [0]']                            \n",
      "                                                                                                  \n",
      " activation_84 (Activation)     (None, 2, 2, 256)    0           ['batch_normalization_91[0][0]'] \n",
      "                                                                                                  \n",
      " conv2d_reparameterization_100   (None, 2, 2, 1024)  526336      ['activation_84[0][0]']          \n",
      " (Conv2DReparameterization)                                                                       \n",
      "                                                                                                  \n",
      " batch_normalization_92 (BatchN  (None, 2, 2, 1024)  4096        ['conv2d_reparameterization_100[0\n",
      " ormalization)                                                   ][0]']                           \n",
      "                                                                                                  \n",
      " add_27 (Add)                   (None, 2, 2, 1024)   0           ['batch_normalization_92[0][0]', \n",
      "                                                                  'activation_82[0][0]']          \n",
      "                                                                                                  \n",
      " activation_85 (Activation)     (None, 2, 2, 1024)   0           ['add_27[0][0]']                 \n",
      "                                                                                                  \n",
      " conv2d_reparameterization_101   (None, 2, 2, 256)   524800      ['activation_85[0][0]']          \n",
      " (Conv2DReparameterization)                                                                       \n",
      "                                                                                                  \n",
      " batch_normalization_93 (BatchN  (None, 2, 2, 256)   1024        ['conv2d_reparameterization_101[0\n",
      " ormalization)                                                   ][0]']                           \n",
      "                                                                                                  \n",
      " activation_86 (Activation)     (None, 2, 2, 256)    0           ['batch_normalization_93[0][0]'] \n",
      "                                                                                                  \n",
      " conv2d_reparameterization_102   (None, 2, 2, 256)   1180160     ['activation_86[0][0]']          \n",
      " (Conv2DReparameterization)                                                                       \n",
      "                                                                                                  \n",
      " batch_normalization_94 (BatchN  (None, 2, 2, 256)   1024        ['conv2d_reparameterization_102[0\n",
      " ormalization)                                                   ][0]']                           \n",
      "                                                                                                  \n",
      " activation_87 (Activation)     (None, 2, 2, 256)    0           ['batch_normalization_94[0][0]'] \n",
      "                                                                                                  \n",
      " conv2d_reparameterization_103   (None, 2, 2, 1024)  526336      ['activation_87[0][0]']          \n",
      " (Conv2DReparameterization)                                                                       \n",
      "                                                                                                  \n",
      " batch_normalization_95 (BatchN  (None, 2, 2, 1024)  4096        ['conv2d_reparameterization_103[0\n",
      " ormalization)                                                   ][0]']                           \n",
      "                                                                                                  \n",
      " add_28 (Add)                   (None, 2, 2, 1024)   0           ['batch_normalization_95[0][0]', \n",
      "                                                                  'activation_85[0][0]']          \n",
      "                                                                                                  \n",
      " activation_88 (Activation)     (None, 2, 2, 1024)   0           ['add_28[0][0]']                 \n",
      "                                                                                                  \n",
      " conv2d_reparameterization_104   (None, 1, 1, 512)   1049600     ['activation_88[0][0]']          \n",
      " (Conv2DReparameterization)                                                                       \n",
      "                                                                                                  \n",
      " batch_normalization_96 (BatchN  (None, 1, 1, 512)   2048        ['conv2d_reparameterization_104[0\n",
      " ormalization)                                                   ][0]']                           \n",
      "                                                                                                  \n",
      " activation_89 (Activation)     (None, 1, 1, 512)    0           ['batch_normalization_96[0][0]'] \n",
      "                                                                                                  \n",
      " conv2d_reparameterization_105   (None, 1, 1, 512)   4719616     ['activation_89[0][0]']          \n",
      " (Conv2DReparameterization)                                                                       \n",
      "                                                                                                  \n",
      " batch_normalization_97 (BatchN  (None, 1, 1, 512)   2048        ['conv2d_reparameterization_105[0\n",
      " ormalization)                                                   ][0]']                           \n",
      "                                                                                                  \n",
      " activation_90 (Activation)     (None, 1, 1, 512)    0           ['batch_normalization_97[0][0]'] \n",
      "                                                                                                  \n",
      " conv2d_reparameterization_106   (None, 1, 1, 2048)  2101248     ['activation_90[0][0]']          \n",
      " (Conv2DReparameterization)                                                                       \n",
      "                                                                                                  \n",
      " conv2d_reparameterization_107   (None, 1, 1, 2048)  4198400     ['activation_88[0][0]']          \n",
      " (Conv2DReparameterization)                                                                       \n",
      "                                                                                                  \n",
      " batch_normalization_98 (BatchN  (None, 1, 1, 2048)  8192        ['conv2d_reparameterization_106[0\n",
      " ormalization)                                                   ][0]']                           \n",
      "                                                                                                  \n",
      " batch_normalization_99 (BatchN  (None, 1, 1, 2048)  8192        ['conv2d_reparameterization_107[0\n",
      " ormalization)                                                   ][0]']                           \n",
      "                                                                                                  \n",
      " add_29 (Add)                   (None, 1, 1, 2048)   0           ['batch_normalization_98[0][0]', \n",
      "                                                                  'batch_normalization_99[0][0]'] \n",
      "                                                                                                  \n",
      " activation_91 (Activation)     (None, 1, 1, 2048)   0           ['add_29[0][0]']                 \n",
      "                                                                                                  \n",
      " conv2d_reparameterization_108   (None, 1, 1, 512)   2098176     ['activation_91[0][0]']          \n",
      " (Conv2DReparameterization)                                                                       \n",
      "                                                                                                  \n",
      " batch_normalization_100 (Batch  (None, 1, 1, 512)   2048        ['conv2d_reparameterization_108[0\n",
      " Normalization)                                                  ][0]']                           \n",
      "                                                                                                  \n",
      " activation_92 (Activation)     (None, 1, 1, 512)    0           ['batch_normalization_100[0][0]']\n",
      "                                                                                                  \n",
      " conv2d_reparameterization_109   (None, 1, 1, 512)   4719616     ['activation_92[0][0]']          \n",
      " (Conv2DReparameterization)                                                                       \n",
      "                                                                                                  \n",
      " batch_normalization_101 (Batch  (None, 1, 1, 512)   2048        ['conv2d_reparameterization_109[0\n",
      " Normalization)                                                  ][0]']                           \n",
      "                                                                                                  \n",
      " activation_93 (Activation)     (None, 1, 1, 512)    0           ['batch_normalization_101[0][0]']\n",
      "                                                                                                  \n",
      " conv2d_reparameterization_110   (None, 1, 1, 2048)  2101248     ['activation_93[0][0]']          \n",
      " (Conv2DReparameterization)                                                                       \n",
      "                                                                                                  \n",
      " batch_normalization_102 (Batch  (None, 1, 1, 2048)  8192        ['conv2d_reparameterization_110[0\n",
      " Normalization)                                                  ][0]']                           \n",
      "                                                                                                  \n",
      " add_30 (Add)                   (None, 1, 1, 2048)   0           ['batch_normalization_102[0][0]',\n",
      "                                                                  'activation_91[0][0]']          \n",
      "                                                                                                  \n",
      " activation_94 (Activation)     (None, 1, 1, 2048)   0           ['add_30[0][0]']                 \n",
      "                                                                                                  \n",
      " conv2d_reparameterization_111   (None, 1, 1, 512)   2098176     ['activation_94[0][0]']          \n",
      " (Conv2DReparameterization)                                                                       \n",
      "                                                                                                  \n",
      " batch_normalization_103 (Batch  (None, 1, 1, 512)   2048        ['conv2d_reparameterization_111[0\n",
      " Normalization)                                                  ][0]']                           \n",
      "                                                                                                  \n",
      " activation_95 (Activation)     (None, 1, 1, 512)    0           ['batch_normalization_103[0][0]']\n",
      "                                                                                                  \n",
      " conv2d_reparameterization_112   (None, 1, 1, 512)   4719616     ['activation_95[0][0]']          \n",
      " (Conv2DReparameterization)                                                                       \n",
      "                                                                                                  \n",
      " batch_normalization_104 (Batch  (None, 1, 1, 512)   2048        ['conv2d_reparameterization_112[0\n",
      " Normalization)                                                  ][0]']                           \n",
      "                                                                                                  \n",
      " activation_96 (Activation)     (None, 1, 1, 512)    0           ['batch_normalization_104[0][0]']\n",
      "                                                                                                  \n",
      " conv2d_reparameterization_113   (None, 1, 1, 2048)  2101248     ['activation_96[0][0]']          \n",
      " (Conv2DReparameterization)                                                                       \n",
      "                                                                                                  \n",
      " batch_normalization_105 (Batch  (None, 1, 1, 2048)  8192        ['conv2d_reparameterization_113[0\n",
      " Normalization)                                                  ][0]']                           \n",
      "                                                                                                  \n",
      " add_31 (Add)                   (None, 1, 1, 2048)   0           ['batch_normalization_105[0][0]',\n",
      "                                                                  'activation_94[0][0]']          \n",
      "                                                                                                  \n",
      " activation_97 (Activation)     (None, 1, 1, 2048)   0           ['add_31[0][0]']                 \n",
      "                                                                                                  \n",
      " global_average_pooling2d_1 (Gl  (None, 2048)        0           ['activation_97[0][0]']          \n",
      " obalAveragePooling2D)                                                                            \n",
      "                                                                                                  \n",
      " dense_reparameterization_3 (De  (None, 10)          40980       ['global_average_pooling2d_1[0][0\n",
      " nseReparameterization)                                          ]']                              \n",
      "                                                                                                  \n",
      "==================================================================================================\n",
      "Total params: 47,097,620\n",
      "Trainable params: 47,044,500\n",
      "Non-trainable params: 53,120\n",
      "__________________________________________________________________________________________________\n"
     ]
    }
   ],
   "source": [
    "model_resnet = TfProbabilityResnet50Classifier(input_dim=(28, 28, 1), n_classes=10)\n",
    "model_resnet.summary()"
   ],
   "metadata": {
    "collapsed": false,
    "pycharm": {
     "name": "#%%\n"
    }
   }
  },
  {
   "cell_type": "code",
   "execution_count": 10,
   "outputs": [
    {
     "name": "stdout",
     "output_type": "stream",
     "text": [
      "Epoch 1/10\n",
      "469/469 [==============================] - 1444s 3s/step - loss: 967.7079 - accuracy: 0.0913 - val_loss: 939.7535 - val_accuracy: 0.1107\n",
      "Epoch 2/10\n",
      "469/469 [==============================] - 1530s 3s/step - loss: 911.4327 - accuracy: 0.0497 - val_loss: 884.0946 - val_accuracy: 0.1121\n",
      "Epoch 3/10\n",
      "469/469 [==============================] - 1469s 3s/step - loss: 856.0320 - accuracy: 0.0319 - val_loss: 830.0217 - val_accuracy: 0.1135\n",
      "Epoch 4/10\n",
      "469/469 [==============================] - 1367s 3s/step - loss: 802.3080 - accuracy: 0.0234 - val_loss: 780.1468 - val_accuracy: 0.1133\n",
      "Epoch 5/10\n",
      "469/469 [==============================] - 1331s 3s/step - loss: 755.1218 - accuracy: 0.0513 - val_loss: 732.2926 - val_accuracy: 0.1061\n",
      "Epoch 6/10\n",
      "469/469 [==============================] - 1329s 3s/step - loss: 710.2072 - accuracy: 0.1353 - val_loss: 689.1619 - val_accuracy: 0.0990\n",
      "Epoch 7/10\n",
      "469/469 [==============================] - 1359s 3s/step - loss: 670.0233 - accuracy: 0.1483 - val_loss: 651.9108 - val_accuracy: 0.0999\n",
      "Epoch 8/10\n",
      "469/469 [==============================] - 1452s 3s/step - loss: 634.7786 - accuracy: 0.1497 - val_loss: 618.3695 - val_accuracy: 0.1005\n",
      "Epoch 9/10\n",
      "469/469 [==============================] - 1452s 3s/step - loss: 602.1672 - accuracy: 0.1504 - val_loss: 585.8160 - val_accuracy: 0.0985\n",
      "Epoch 10/10\n",
      "469/469 [==============================] - 1426s 3s/step - loss: 568.9435 - accuracy: 0.1521 - val_loss: 551.6384 - val_accuracy: 0.0994\n"
     ]
    },
    {
     "data": {
      "text/plain": "<keras.callbacks.History at 0x7fc02994ea00>"
     },
     "execution_count": 10,
     "metadata": {},
     "output_type": "execute_result"
    }
   ],
   "source": [
    "model_resnet.fit(train_ds, epochs=10, validation_data=test_ds)"
   ],
   "metadata": {
    "collapsed": false,
    "pycharm": {
     "name": "#%%\n"
    }
   }
  },
  {
   "cell_type": "code",
   "execution_count": null,
   "outputs": [
    {
     "name": "stdout",
     "output_type": "stream",
     "text": [
      "13/20 [==================>...........] - ETA: 7:06 - loss: 548.3408 - accuracy: 0.1547"
     ]
    }
   ],
   "source": [
    "model_resnet.fit(train_ds, epochs=1, validation_data=test_ds, batch_size=128 * 24)"
   ],
   "metadata": {
    "collapsed": false,
    "pycharm": {
     "name": "#%%\n",
     "is_executing": true
    }
   }
  },
  {
   "cell_type": "code",
   "execution_count": 21,
   "outputs": [],
   "source": [
    "example_images = []\n",
    "example_labels = []\n",
    "\n",
    "for x, y in test_ds.take(10):\n",
    "    example_images.append(x.numpy())\n",
    "    example_labels.append(y.numpy())\n",
    "\n",
    "example_images = np.concatenate(example_images, axis = 0)\n",
    "example_labels = np.concatenate(example_labels, axis = 0)"
   ],
   "metadata": {
    "collapsed": false,
    "pycharm": {
     "name": "#%%\n"
    }
   }
  },
  {
   "cell_type": "code",
   "execution_count": 22,
   "outputs": [],
   "source": [
    "def analyse_model_prediction(image, label = None, forward_passes = 10):\n",
    "    if label is not None:\n",
    "        label = np.argmax(label, axis = -1)\n",
    "\n",
    "    extracted_probabilities = np.empty(shape=(forward_passes, 10))\n",
    "    extracted_std = np.empty(shape=(forward_passes, 10))\n",
    "    for i in range(forward_passes):\n",
    "        model_output_distribution = model(tf.expand_dims(image,\n",
    "                                                  axis = 0))\n",
    "        extracted_probabilities[i] = model_output_distribution.mean().numpy().flatten()\n",
    "        extracted_std[i] = model_output_distribution.stddev().numpy().flatten()\n",
    "\n",
    "    fig, (ax1, ax2) = plt.subplots(nrows=1, ncols=2, figsize=(16, 6),\n",
    "                                   gridspec_kw={'width_ratios': [2, 4]})\n",
    "    plt.xticks(fontsize = 16, rotation = 45)\n",
    "    plt.yticks(fontsize = 16)\n",
    "\n",
    "    # Show the image and the true label if provided.\n",
    "    ax1.imshow(image.squeeze(), cmap='gray')\n",
    "    ax1.axis('off')\n",
    "    if label is not None:\n",
    "        ax1.set_title('True Label: {}'.format(str(label)), fontsize = 20)\n",
    "    else:\n",
    "        ax1.set_title('True Label Not Given', fontsize = 20)\n",
    "\n",
    "    # Obtain the 95% prediction interval.\n",
    "    # extracted_probabilities.shape = (forward_passes, 10)\n",
    "    # So if we sample from the model 100 times, there will be 100 different\n",
    "    # values for each of the 10 classes.\n",
    "    # We get the interval for each of the classes independently.\n",
    "    pct_2p5 = np.array([np.percentile(extracted_probabilities[:, i],\n",
    "                                      2.5) for i in range(10)])\n",
    "    pct_97p5 = np.array([np.percentile(extracted_probabilities[:, i],\n",
    "                                       97.5) for i in range(10)])\n",
    "\n",
    "    # Std also contains 100 different values. We take median across the column\n",
    "    # to obtain a single value for each of the class label.\n",
    "    extracted_std = np.median(extracted_std, axis = 0)\n",
    "    highest_var_label = np.argmax(extracted_std, axis = -1)\n",
    "    if label is not None:\n",
    "        print('Label %d has the highest std in this'\n",
    "        ' prediction with the value %.3f' %(highest_var_label,\n",
    "                                            extracted_std[highest_var_label]))\n",
    "    else:\n",
    "      print('Std Array:', extracted_std)\n",
    "\n",
    "    bar = ax2.bar(np.arange(10), pct_97p5, color='red')\n",
    "    if label is not None:\n",
    "        bar[int(label)].set_color('green')\n",
    "\n",
    "    ax2.bar(np.arange(10), pct_2p5-0.02, color='white',\n",
    "            linewidth=4, edgecolor='white')\n",
    "    ax2.set_xticks(np.arange(10))\n",
    "\n",
    "    ax2.set_ylim([0, 1])\n",
    "    ax2.set_ylabel('Probability', fontsize = 18)\n",
    "    ax2.set_title(\"Model's Probabilities\", fontsize = 20)\n",
    "    plt.show()"
   ],
   "metadata": {
    "collapsed": false,
    "pycharm": {
     "name": "#%%\n"
    }
   }
  },
  {
   "cell_type": "code",
   "execution_count": 23,
   "outputs": [
    {
     "name": "stdout",
     "output_type": "stream",
     "text": [
      "Label 9 has the highest std in this prediction with the value 0.396\n"
     ]
    },
    {
     "data": {
      "text/plain": "<Figure size 1152x432 with 2 Axes>",
      "image/png": "[encoded data removed]"
     },
     "metadata": {
      "needs_background": "light"
     },
     "output_type": "display_data"
    }
   ],
   "source": [
    "analyse_model_prediction(example_images[284], example_labels[284])"
   ],
   "metadata": {
    "collapsed": false,
    "pycharm": {
     "name": "#%%\n"
    }
   }
  },
  {
   "cell_type": "code",
   "execution_count": 24,
   "outputs": [
    {
     "name": "stdout",
     "output_type": "stream",
     "text": [
      "Label 0 has the highest std in this prediction with the value 0.000\n"
     ]
    },
    {
     "data": {
      "text/plain": "<Figure size 1152x432 with 2 Axes>",
      "image/png": "[encoded data removed]"
     },
     "metadata": {
      "needs_background": "light"
     },
     "output_type": "display_data"
    }
   ],
   "source": [
    "analyse_model_prediction(example_images[50], example_labels[50])"
   ],
   "metadata": {
    "collapsed": false,
    "pycharm": {
     "name": "#%%\n"
    }
   }
  },
  {
   "cell_type": "code",
   "execution_count": 25,
   "outputs": [
    {
     "name": "stdout",
     "output_type": "stream",
     "text": [
      "Label 0 has the highest std in this prediction with the value 0.104\n"
     ]
    },
    {
     "data": {
      "text/plain": "<Figure size 1152x432 with 2 Axes>",
      "image/png": "[encoded data removed]"
     },
     "metadata": {
      "needs_background": "light"
     },
     "output_type": "display_data"
    }
   ],
   "source": [
    "noise_vector = np.random.uniform(size = (28, 28, 1), low = 0, high = 0.5)\n",
    "noisy_image = np.clip(example_images[50] + noise_vector, 0, 1)\n",
    "analyse_model_prediction(noisy_image, example_labels[50])"
   ],
   "metadata": {
    "collapsed": false,
    "pycharm": {
     "name": "#%%\n"
    }
   }
  },
  {
   "cell_type": "code",
   "execution_count": 26,
   "outputs": [
    {
     "name": "stdout",
     "output_type": "stream",
     "text": [
      "Label 0 has the highest std in this prediction with the value 0.430\n"
     ]
    },
    {
     "data": {
      "text/plain": "<Figure size 1152x432 with 2 Axes>",
      "image/png": "[encoded data removed]"
     },
     "metadata": {
      "needs_background": "light"
     },
     "output_type": "display_data"
    }
   ],
   "source": [
    "noise_vector = np.random.uniform(size = (28, 28, 1), low = 0, high = 0.5)\n",
    "noisy_image = np.clip(example_images[50] + noise_vector*2, 0, 1)\n",
    "analyse_model_prediction(noisy_image, example_labels[50])"
   ],
   "metadata": {
    "collapsed": false,
    "pycharm": {
     "name": "#%%\n"
    }
   }
  },
  {
   "cell_type": "code",
   "execution_count": 27,
   "outputs": [
    {
     "name": "stdout",
     "output_type": "stream",
     "text": [
      "Std Array: [0.40813014 0.15747809 0.20125473 0.10609014 0.27863562 0.28839226\n",
      " 0.1491679  0.15689486 0.24372438 0.31577645]\n"
     ]
    },
    {
     "data": {
      "text/plain": "<Figure size 1152x432 with 2 Axes>",
      "image/png": "[encoded data removed]"
     },
     "metadata": {
      "needs_background": "light"
     },
     "output_type": "display_data"
    }
   ],
   "source": [
    "analyse_model_prediction(np.random.uniform(size = (28, 28, 1), low = 0,\n",
    "                                           high = 1))"
   ],
   "metadata": {
    "collapsed": false,
    "pycharm": {
     "name": "#%%\n"
    }
   }
  }
 ],
 "metadata": {
  "kernelspec": {
   "display_name": "Python 3",
   "language": "python",
   "name": "python3"
  },
  "language_info": {
   "codemirror_mode": {
    "name": "ipython",
    "version": 2
   },
   "file_extension": ".py",
   "mimetype": "text/x-python",
   "name": "python",
   "nbconvert_exporter": "python",
   "pygments_lexer": "ipython2",
   "version": "2.7.6"
  }
 },
 "nbformat": 4,
 "nbformat_minor": 0
}